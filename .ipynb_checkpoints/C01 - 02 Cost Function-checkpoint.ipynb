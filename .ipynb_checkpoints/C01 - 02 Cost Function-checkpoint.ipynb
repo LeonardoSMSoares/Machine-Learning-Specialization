{
 "cells": [
  {
   "cell_type": "markdown",
   "metadata": {},
   "source": [
    "<img src=\"images/cost_function.png\"/>"
   ]
  },
  {
   "cell_type": "markdown",
   "metadata": {},
   "source": [
    "# Cost Function"
   ]
  },
  {
   "cell_type": "code",
   "execution_count": 1,
   "metadata": {},
   "outputs": [],
   "source": [
    "import numpy as np\n",
    "import matplotlib.pyplot as plt\n",
    "\n",
    "import ipywidgets as widgets\n",
    "from IPython.display import display\n",
    "\n",
    "%matplotlib inline"
   ]
  },
  {
   "cell_type": "markdown",
   "metadata": {},
   "source": [
    "## Problem Statement\n",
    "You would like a model which can predict housing prices given the size of the house. A house with 1000 square feet sold for \\\\$300,000 and a house with 2000 square feet sold for \\$500,000.\n",
    "\n",
    "| Size (1000 sqft) | Price (1000s of dollars)|\n",
    "|-----|-----|\n",
    "| 1.0 | 300 |\n",
    "| 2.0 | 500 |"
   ]
  },
  {
   "cell_type": "code",
   "execution_count": 2,
   "metadata": {},
   "outputs": [
    {
     "name": "stdout",
     "output_type": "stream",
     "text": [
      "x_train = [1. 2.]\n",
      "y_train = [300. 500.]\n"
     ]
    }
   ],
   "source": [
    "x_train = np.array([1.0, 2.0])           # size (in 1000 square feet)\n",
    "y_train = np.array([300.0, 500.0])       # price (in 1000s of dollars)\n",
    "\n",
    "print(f\"x_train = {x_train}\")\n",
    "print(f\"y_train = {y_train}\")"
   ]
  },
  {
   "cell_type": "markdown",
   "metadata": {},
   "source": [
    "<img src=\"images/computing_cost.png\"/>"
   ]
  },
  {
   "cell_type": "code",
   "execution_count": 3,
   "metadata": {},
   "outputs": [],
   "source": [
    "def compute_cost(x, y, w, b): \n",
    "    \"\"\"\n",
    "    Computes the cost function for linear regression.\n",
    "    \n",
    "    Args:\n",
    "      x (ndarray (m,)): Data, m examples \n",
    "      y (ndarray (m,)): target values\n",
    "      w,b (scalar)    : model parameters  \n",
    "    \n",
    "    Returns\n",
    "        total_cost (float): The cost of using w,b as the parameters for linear regression\n",
    "               to fit the data points in x and y\n",
    "    \"\"\"\n",
    "    # number of training examples\n",
    "    m = x.shape[0] \n",
    "    \n",
    "    cost_sum = 0 \n",
    "    for i in range(m): \n",
    "        f_wb = w * x[i] + b   \n",
    "        cost = (f_wb - y[i]) ** 2  \n",
    "        cost_sum = cost_sum + cost  \n",
    "    total_cost = (1 / (2 * m)) * cost_sum  \n",
    "\n",
    "    return total_cost"
   ]
  },
  {
   "cell_type": "markdown",
   "metadata": {},
   "source": [
    "## Compute Model"
   ]
  },
  {
   "cell_type": "code",
   "execution_count": 4,
   "metadata": {},
   "outputs": [],
   "source": [
    "def compute_model_output(x, w, b):\n",
    "    \"\"\"\n",
    "    Computes the prediction of a linear model\n",
    "    Args:\n",
    "      x (ndarray (m,)): Data, m examples \n",
    "      w,b (scalar)    : model parameters  \n",
    "    Returns\n",
    "      y (ndarray (m,)): target values\n",
    "    \"\"\"\n",
    "    m = x.shape[0]     # number of rows\n",
    "    f_wb = np.zeros(m) # create a array\n",
    "    \n",
    "    for i in range(m):\n",
    "        \n",
    "        f_wb[i] = w * x[i] + b\n",
    "        \n",
    "    return f_wb"
   ]
  },
  {
   "cell_type": "markdown",
   "metadata": {},
   "source": [
    "## W and B fixed"
   ]
  },
  {
   "cell_type": "code",
   "execution_count": 5,
   "metadata": {},
   "outputs": [
    {
     "data": {
      "text/plain": [
       "(0.0, 400.0)"
      ]
     },
     "execution_count": 5,
     "metadata": {},
     "output_type": "execute_result"
    },
    {
     "data": {
      "image/png": "[encoded data removed]",
      "text/plain": [
       "<Figure size 864x288 with 2 Axes>"
      ]
     },
     "metadata": {
      "needs_background": "light"
     },
     "output_type": "display_data"
    }
   ],
   "source": [
    "w = 150\n",
    "b = 100\n",
    "w_bar = np.linspace(0,400,100)\n",
    "\n",
    "# Plot two graphs\n",
    "\n",
    "tmp_f_wb = compute_model_output(x_train, w, b,)\n",
    "cost = compute_cost(x_train, y_train, w, b)\n",
    "costB = compute_cost(x_train, y_train, w_bar, b)\n",
    "\n",
    "plt.figure(figsize=(12,4))\n",
    "\n",
    "plt.subplot(1,2,1)     # plt.subplot(nrows, ncols, plot_number)\n",
    "plt.title('Housing Prices')\n",
    "plt.scatter(x_train, y_train, marker='x', c='r',label='Actual Values') # Plot the data points\n",
    "plt.plot(x_train, tmp_f_wb, c='b',label='Our Prediction')              # Plot model\n",
    "plt.xlabel('Sizes')\n",
    "plt.ylabel('Price')\n",
    "plt.legend()\n",
    "plt.ylim(240, 510)\n",
    "plt.xlim(0.95, 2.05)\n",
    "\n",
    "plt.subplot(1,2,2)\n",
    "plt.title('Cost vs. w (b fixed at 100) ')\n",
    "plt.scatter(w, cost, marker='x', c='r',label='Actual Value')   # Plot actual cost\n",
    "plt.plot(w_bar, costB, c='b',label='Our Prediction')          # Plot J curve\n",
    "plt.xlabel('w')\n",
    "plt.ylabel('Cost')\n",
    "plt.ylim(-1000, 50000)\n",
    "plt.xlim(0, 400)"
   ]
  },
  {
   "cell_type": "markdown",
   "metadata": {},
   "source": [
    "## Dinamic Visualization"
   ]
  },
  {
   "cell_type": "code",
   "execution_count": 6,
   "metadata": {},
   "outputs": [
    {
     "data": {
      "application/vnd.jupyter.widget-view+json": {
       "model_id": "ef40dacf4b164fef87cff07fd7735072",
       "version_major": 2,
       "version_minor": 0
      },
      "text/plain": [
       "interactive(children=(IntSlider(value=1, description='w', max=400, step=10), Output()), _dom_classes=('widget-…"
      ]
     },
     "metadata": {},
     "output_type": "display_data"
    }
   ],
   "source": [
    "def move(w):\n",
    "    \n",
    "    b = 100\n",
    "    w_bar = np.linspace(0,400,100)\n",
    "\n",
    "    # Plot two graphs\n",
    "\n",
    "    tmp_f_wb = compute_model_output(x_train, w, b,)\n",
    "    cost = compute_cost(x_train, y_train, w, b)\n",
    "    costB = compute_cost(x_train, y_train, w_bar, b)\n",
    "\n",
    "    plt.figure(figsize=(12,4))\n",
    "\n",
    "    plt.subplot(1,2,1)     # plt.subplot(nrows, ncols, plot_number)\n",
    "    plt.title('Housing Prices')\n",
    "    plt.scatter(x_train, y_train, marker='x', c='r',label='Actual Values') # Plot the data points\n",
    "    plt.plot(x_train, tmp_f_wb, c='b',label='Our Prediction')              # Plot model\n",
    "    plt.xlabel('Sizes')\n",
    "    plt.ylabel('Price')\n",
    "    plt.legend()\n",
    "    plt.ylim(200, 600)\n",
    "    plt.xlim(0.95, 2.05)\n",
    "\n",
    "    plt.subplot(1,2,2)\n",
    "    plt.title('Cost vs. w (b fixed at 100) ')\n",
    "    plt.scatter(w, cost, marker='x', c='r',label=f'Cost at w = {w}')   # Plot actual cost\n",
    "    plt.plot(w_bar, costB, c='b')                   # Plot J curve\n",
    "    plt.xlabel('w')\n",
    "    plt.ylabel('Cost')\n",
    "    plt.legend()\n",
    "    plt.ylim(-5000, 50000)\n",
    "    plt.xlim(0, 400)\n",
    "    \n",
    "    print(f'For w = {w}, Cost = {cost}')\n",
    "    \n",
    "# Parameter's Control    \n",
    "gbm_controls = widgets.interactive(move, \n",
    "                                   w=widgets.IntSlider(min=0, max=400, step=10, value=1))\n",
    "# Display\n",
    "display(gbm_controls)"
   ]
  }
 ],
 "metadata": {
  "kernelspec": {
   "display_name": "Python 3",
   "language": "python",
   "name": "python3"
  },
  "language_info": {
   "codemirror_mode": {
    "name": "ipython",
    "version": 3
   },
   "file_extension": ".py",
   "mimetype": "text/x-python",
   "name": "python",
   "nbconvert_exporter": "python",
   "pygments_lexer": "ipython3",
   "version": "3.8.5"
  }
 },
 "nbformat": 4,
 "nbformat_minor": 4
}
